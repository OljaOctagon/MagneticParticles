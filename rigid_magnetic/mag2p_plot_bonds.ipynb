{
 "cells": [
  {
   "cell_type": "code",
   "execution_count": null,
   "metadata": {},
   "outputs": [],
   "source": [
    "import pandas as pd \n",
    "import matplotlib.pyplot as plt \n",
    "import numpy as np \n",
    "import matplotlib as mpl\n",
    "import seaborn as sns \n",
    "import cmasher as cmr"
   ]
  },
  {
   "cell_type": "code",
   "execution_count": null,
   "metadata": {},
   "outputs": [],
   "source": [
    "dir=\"/media/carina/vsc3_backup_big/vsc4-backup/mag2patch/mag2patch\"\n",
    "file=\"MAG2P_nbonded-2025-2-6-16:25:37.pickle\"\n",
    "\n",
    "df = pd.read_pickle(\"{}/{}\".format(dir,file))\n",
    "df = df.sort_values([\"lambda\",\"shift\"])   \n",
    "bonds = df.groupby([\"lambda\",\"shift\"])[[\"mean_bonds\", \"std_bonds\"]].mean().reset_index().values.astype(float) "
   ]
  },
  {
   "cell_type": "code",
   "execution_count": null,
   "metadata": {},
   "outputs": [],
   "source": [
    "\n",
    "shifts = df[\"shift\"].unique()\n",
    "lambdas=  df[\"lambda\"].unique()\n",
    "arr = np.reshape(bonds[:,2], (len(lambdas), len(shifts)))\n",
    "arr = np.round(arr, decimals=2)\n",
    "\n",
    "mpl.rc(\"legend\", fontsize=50)\n",
    "fig, ax = plt.subplots(figsize=(10,10))\n",
    "im = sns.heatmap(\n",
    "    arr,\n",
    "    ax=ax,\n",
    "    linewidth=1,\n",
    "    annot=False,\n",
    "    cmap=cmr.ocean,\n",
    "    vmin=1.5,\n",
    "    vmax=2.3,\n",
    "    cbar=False,\n",
    "    linecolor=\"black\"\n",
    ")\n",
    "im.invert_yaxis()\n",
    "new_xticks = shifts\n",
    "new_yticks = lambdas\n",
    "ax.set_xticks(\n",
    "    np.arange(0, len(shifts)),\n",
    "    new_xticks,\n",
    "    rotation=45,\n",
    "    horizontalalignment=\"right\",\n",
    ")\n",
    "ax.set_yticks(\n",
    "    np.arange(0, len(lambdas)),\n",
    "    new_yticks,\n",
    "    rotation=0,\n",
    "    verticalalignment=\"bottom\",\n",
    ")\n",
    "im.set_ylabel(\"$\\lambda$\", size=10)\n",
    "im.set_xlabel(\"shift s\", size=10)\n",
    "im.set_yticks(np.arange(0, len(lambdas)), new_yticks)\n",
    "im.tick_params(axis=\"both\", which=\"major\", labelsize=9)\n",
    "plt.tight_layout()\n",
    "\n",
    "mappable = im.get_children()[0]\n",
    "#plt.colorbar(mappable, ax=axes, orientation=\"horizontal\")\n",
    "plt.colorbar(mappable, ax=ax, orientation=\"horizontal\")\n",
    "plt.tight_layout()\n",
    "plt.show()"
   ]
  },
  {
   "cell_type": "code",
   "execution_count": null,
   "metadata": {},
   "outputs": [],
   "source": []
  }
 ],
 "metadata": {
  "kernelspec": {
   "display_name": "Python 3",
   "language": "python",
   "name": "python3"
  },
  "language_info": {
   "codemirror_mode": {
    "name": "ipython",
    "version": 3
   },
   "file_extension": ".py",
   "mimetype": "text/x-python",
   "name": "python",
   "nbconvert_exporter": "python",
   "pygments_lexer": "ipython3",
   "version": "3.11.5"
  },
  "orig_nbformat": 4
 },
 "nbformat": 4,
 "nbformat_minor": 2
}
